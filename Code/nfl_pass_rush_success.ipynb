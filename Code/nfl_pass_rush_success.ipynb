{
 "cells": [
  {
   "cell_type": "code",
   "execution_count": 1,
   "id": "39824d39",
   "metadata": {},
   "outputs": [],
   "source": [
    "#  ! pip install mysql-connector-python\n",
    "\n",
    "from sqlalchemy import create_engine\n",
    "\n",
    "# SQL flavor, user, password\n",
    "engineStr = 'mysql+mysqlconnector://student:cbasummer2020' \n",
    "engineStr += '@35.202.92.40:3306' # Server Address\n",
    "engineStr += '/nfl' # Database Name\n",
    "\n",
    "engine = create_engine(engineStr) # Start the Engine"
   ]
  },
  {
   "cell_type": "code",
   "execution_count": 117,
   "id": "56058c5e",
   "metadata": {},
   "outputs": [],
   "source": [
    "import pandas as pd\n",
    "\n",
    "select = \"\"\"\n",
    "SELECT\n",
    "  pbp.DWN as down,\n",
    "  pbp.TYPE as type,\n",
    "  pbp.YTG as toGo,\n",
    "  pbp.YDS AS success\n",
    "FROM pbp\n",
    "JOIN game\n",
    "  ON pbp.GID = game.GID\n",
    "WHERE game.SEAS=2019 AND pbp.TYPE IN (\"PASS\", \"RUSH\") AND pbp.OFF='SEA';\n",
    "\"\"\"\n",
    "\n",
    "data = pd.read_sql(select, engine)"
   ]
  },
  {
   "cell_type": "code",
   "execution_count": 118,
   "id": "d84c07a3",
   "metadata": {},
   "outputs": [],
   "source": [
    "data['pass'] = (data['type']==\"PASS\")\n",
    "data['pass'] = data['pass'].astype(int)\n",
    "# data['success'] = (data['success']==\"Y\")\n",
    "# data['success'] = data['success'].astype(int)"
   ]
  },
  {
   "cell_type": "code",
   "execution_count": 119,
   "id": "9da67511",
   "metadata": {},
   "outputs": [],
   "source": [
    "data = data[['success', 'pass', 'down', 'toGo']]"
   ]
  },
  {
   "cell_type": "code",
   "execution_count": 107,
   "id": "af8f91b5",
   "metadata": {},
   "outputs": [],
   "source": [
    "data.to_csv(\"nfl_pass_rush_success.csv\", index=False)"
   ]
  },
  {
   "cell_type": "code",
   "execution_count": 8,
   "id": "ae99105c",
   "metadata": {
    "collapsed": true
   },
   "outputs": [
    {
     "name": "stdout",
     "output_type": "stream",
     "text": [
      "Collecting pymc3\n",
      "  Downloading pymc3-3.11.5-py3-none-any.whl (872 kB)\n",
      "\u001b[K     |████████████████████████████████| 872 kB 3.0 MB/s eta 0:00:01\n",
      "\u001b[?25hCollecting arviz\n",
      "  Downloading arviz-0.12.0-py3-none-any.whl (1.6 MB)\n",
      "\u001b[K     |████████████████████████████████| 1.6 MB 40.3 MB/s eta 0:00:01\n",
      "\u001b[?25hRequirement already satisfied: numpy<1.22.2,>=1.15.0 in /home/dusty/anaconda3/lib/python3.8/site-packages (from pymc3) (1.18.5)\n",
      "Collecting theano-pymc==1.1.2\n",
      "  Downloading Theano-PyMC-1.1.2.tar.gz (1.8 MB)\n",
      "\u001b[K     |████████████████████████████████| 1.8 MB 39.5 MB/s eta 0:00:01\n",
      "\u001b[?25hCollecting scipy<1.8.0,>=1.7.3\n",
      "  Downloading scipy-1.7.3-cp38-cp38-manylinux_2_17_x86_64.manylinux2014_x86_64.whl (39.3 MB)\n",
      "\u001b[K     |████████████████████████████████| 39.3 MB 46.1 MB/s eta 0:00:01\n",
      "\u001b[?25hCollecting cachetools>=4.2.1\n",
      "  Downloading cachetools-5.0.0-py3-none-any.whl (9.1 kB)\n",
      "Requirement already satisfied: typing-extensions>=3.7.4 in /home/dusty/anaconda3/lib/python3.8/site-packages (from pymc3) (3.10.0.2)\n",
      "Requirement already satisfied: patsy>=0.5.1 in /home/dusty/anaconda3/lib/python3.8/site-packages (from pymc3) (0.5.2)\n",
      "Collecting fastprogress>=0.2.0\n",
      "  Downloading fastprogress-1.0.2-py3-none-any.whl (12 kB)\n",
      "Collecting deprecat\n",
      "  Downloading deprecat-2.1.1-py2.py3-none-any.whl (9.8 kB)\n",
      "Collecting semver>=2.13.0\n",
      "  Downloading semver-2.13.0-py2.py3-none-any.whl (12 kB)\n",
      "Requirement already satisfied: pandas>=0.24.0 in /home/dusty/anaconda3/lib/python3.8/site-packages (from pymc3) (1.2.4)\n",
      "Collecting dill\n",
      "  Downloading dill-0.3.4-py2.py3-none-any.whl (86 kB)\n",
      "\u001b[K     |████████████████████████████████| 86 kB 1.2 MB/s  eta 0:00:01\n",
      "\u001b[?25hRequirement already satisfied: filelock in /home/dusty/anaconda3/lib/python3.8/site-packages (from theano-pymc==1.1.2->pymc3) (3.0.12)\n",
      "Requirement already satisfied: packaging in /home/dusty/anaconda3/lib/python3.8/site-packages (from arviz) (21.0)\n",
      "Requirement already satisfied: setuptools>=38.4 in /home/dusty/anaconda3/lib/python3.8/site-packages (from arviz) (58.0.4)\n",
      "Requirement already satisfied: matplotlib>=3.0 in /home/dusty/anaconda3/lib/python3.8/site-packages (from arviz) (3.4.3)\n",
      "Collecting xarray>=0.16.1\n",
      "  Downloading xarray-2022.3.0-py3-none-any.whl (870 kB)\n",
      "\u001b[K     |████████████████████████████████| 870 kB 44.1 MB/s eta 0:00:01\n",
      "\u001b[?25hCollecting netcdf4\n",
      "  Downloading netCDF4-1.5.8-cp38-cp38-manylinux_2_17_x86_64.manylinux2014_x86_64.whl (4.7 MB)\n",
      "\u001b[K     |████████████████████████████████| 4.7 MB 46.0 MB/s eta 0:00:01\n",
      "\u001b[?25hRequirement already satisfied: pillow>=6.2.0 in /home/dusty/anaconda3/lib/python3.8/site-packages (from matplotlib>=3.0->arviz) (8.4.0)\n",
      "Requirement already satisfied: python-dateutil>=2.7 in /home/dusty/anaconda3/lib/python3.8/site-packages (from matplotlib>=3.0->arviz) (2.8.2)\n",
      "Requirement already satisfied: cycler>=0.10 in /home/dusty/anaconda3/lib/python3.8/site-packages (from matplotlib>=3.0->arviz) (0.10.0)\n",
      "Requirement already satisfied: pyparsing>=2.2.1 in /home/dusty/anaconda3/lib/python3.8/site-packages (from matplotlib>=3.0->arviz) (2.4.7)\n",
      "Requirement already satisfied: kiwisolver>=1.0.1 in /home/dusty/anaconda3/lib/python3.8/site-packages (from matplotlib>=3.0->arviz) (1.3.1)\n",
      "Requirement already satisfied: six in /home/dusty/anaconda3/lib/python3.8/site-packages (from cycler>=0.10->matplotlib>=3.0->arviz) (1.16.0)\n",
      "Requirement already satisfied: pytz>=2017.3 in /home/dusty/anaconda3/lib/python3.8/site-packages (from pandas>=0.24.0->pymc3) (2021.3)\n",
      "Requirement already satisfied: wrapt<2,>=1.10 in /home/dusty/anaconda3/lib/python3.8/site-packages (from deprecat->pymc3) (1.12.1)\n",
      "Collecting cftime\n",
      "  Downloading cftime-1.6.0-cp38-cp38-manylinux_2_17_x86_64.manylinux2014_x86_64.whl (238 kB)\n",
      "\u001b[K     |████████████████████████████████| 238 kB 5.8 MB/s eta 0:00:01\n",
      "\u001b[?25hBuilding wheels for collected packages: theano-pymc\n",
      "  Building wheel for theano-pymc (setup.py) ... \u001b[?25ldone\n",
      "\u001b[?25h  Created wheel for theano-pymc: filename=Theano_PyMC-1.1.2-py3-none-any.whl size=1529963 sha256=4a4b31c906e96de68deb7a25794f33df893d7b152b56d1c4e110e5a521f8f233\n",
      "  Stored in directory: /home/dusty/.cache/pip/wheels/0e/41/d2/82c7b771236f987def7fe2e51855cce22b270327f3fedec57c\n",
      "Successfully built theano-pymc\n",
      "Installing collected packages: cftime, xarray, scipy, netcdf4, theano-pymc, semver, fastprogress, dill, deprecat, cachetools, arviz, pymc3\n",
      "  Attempting uninstall: scipy\n",
      "    Found existing installation: scipy 1.6.2\n",
      "    Uninstalling scipy-1.6.2:\n",
      "      Successfully uninstalled scipy-1.6.2\n",
      "  Attempting uninstall: cachetools\n",
      "    Found existing installation: cachetools 4.1.1\n",
      "    Uninstalling cachetools-4.1.1:\n",
      "      Successfully uninstalled cachetools-4.1.1\n",
      "\u001b[31mERROR: pip's dependency resolver does not currently take into account all the packages that are installed. This behaviour is the source of the following dependency conflicts.\n",
      "tensorflow 2.3.0 requires scipy==1.4.1, but you have scipy 1.7.3 which is incompatible.\n",
      "tensorflow-gpu 2.3.0 requires scipy==1.4.1, but you have scipy 1.7.3 which is incompatible.\n",
      "google-auth 1.20.0 requires cachetools<5.0,>=2.0.0, but you have cachetools 5.0.0 which is incompatible.\u001b[0m\n",
      "Successfully installed arviz-0.12.0 cachetools-5.0.0 cftime-1.6.0 deprecat-2.1.1 dill-0.3.4 fastprogress-1.0.2 netcdf4-1.5.8 pymc3-3.11.5 scipy-1.7.3 semver-2.13.0 theano-pymc-1.1.2 xarray-2022.3.0\n"
     ]
    }
   ],
   "source": [
    "! pip install pymc3 arviz"
   ]
  },
  {
   "cell_type": "code",
   "execution_count": null,
   "id": "65a1798d",
   "metadata": {},
   "outputs": [],
   "source": [
    "data = pd.read_csv(\"nfl_pass_rush_success.csv\")"
   ]
  },
  {
   "cell_type": "code",
   "execution_count": 120,
   "id": "9a30ec2e",
   "metadata": {},
   "outputs": [],
   "source": [
    "import pymc3 as pm\n",
    "import numpy as np\n",
    "\n",
    "coords = {\"observation\": data.index.values}\n",
    "\n",
    "with pm.Model(coords=coords) as binomial_regression_model:\n",
    "    n = data.shape[0]\n",
    "    passes = pm.Data(\"passes\", data['pass'], dims=\"observation\")\n",
    "    down = pm.Data(\"down\", data['down'], dims=\"observation\")\n",
    "    distance = pm.Data(\"distance\", data['toGo'], dims=\"observation\")\n",
    "    # priors\n",
    "    β0 = pm.Normal(\"β0\", mu=0, sigma=1)\n",
    "    β_pass = pm.Normal(\"β_pass\", mu=0, sigma=1)\n",
    "    β_down = pm.Normal(\"β_down\", mu=0, sigma=1)\n",
    "    β_distance = pm.Normal(\"β_distance\", mu=0, sigma=1)\n",
    "    # linear model\n",
    "    μ = β0 + β_pass * passes + β_down * down + β_distance * distance\n",
    "    sigma = pm.HalfNormal(\"sigma\", sigma=5, testval=1.0)\n",
    "    \n",
    "    likelihood = pm.Normal(\"y\", mu=μ, sigma=sigma, observed=data['success'])\n",
    "\n",
    "    \n",
    "#     LOGIT CODE\n",
    "# #     μ = β0 + β_pass * passes \n",
    "#     p = pm.Deterministic(\"p\", pm.math.invlogit(μ), dims=\"observation\")\n",
    "#     # likelihood\n",
    "#     pm.Binomial(\"y\", n=n, p=p, observed=data[\"success\"], dims=\"observation\")"
   ]
  },
  {
   "cell_type": "code",
   "execution_count": 121,
   "id": "b283afd5",
   "metadata": {
    "scrolled": false
   },
   "outputs": [
    {
     "data": {
      "text/html": [
       "\n",
       "<style>\n",
       "    /* Turns off some styling */\n",
       "    progress {\n",
       "        /* gets rid of default border in Firefox and Opera. */\n",
       "        border: none;\n",
       "        /* Needs to be in here for Safari polyfill so background images work as expected. */\n",
       "        background-size: auto;\n",
       "    }\n",
       "    .progress-bar-interrupted, .progress-bar-interrupted::-webkit-progress-bar {\n",
       "        background: #F44336;\n",
       "    }\n",
       "</style>\n"
      ],
      "text/plain": [
       "<IPython.core.display.HTML object>"
      ]
     },
     "metadata": {},
     "output_type": "display_data"
    },
    {
     "data": {
      "text/html": [
       "\n",
       "    <div>\n",
       "      <progress value='40' class='' max='40' style='width:300px; height:20px; vertical-align: middle;'></progress>\n",
       "      100.00% [40/40 00:00<00:00 logp = -4,192.6, ||grad|| = 1.98]\n",
       "    </div>\n",
       "    "
      ],
      "text/plain": [
       "<IPython.core.display.HTML object>"
      ]
     },
     "metadata": {},
     "output_type": "display_data"
    },
    {
     "name": "stdout",
     "output_type": "stream",
     "text": [
      "\n"
     ]
    },
    {
     "name": "stderr",
     "output_type": "stream",
     "text": [
      "/tmp/ipykernel_3220043/3605552728.py:7: DeprecationWarning: Call to deprecated Parameter start. (renamed to `initvals` in PyMC v4.0.0) -- Deprecated since v3.11.5.\n",
      "  trace=pm.sample(10000, step=step, start=start)\n",
      "/home/dusty/anaconda3/lib/python3.8/site-packages/deprecat/classic.py:215: FutureWarning: In v4.0, pm.sample will return an `arviz.InferenceData` object instead of a `MultiTrace` by default. You can pass return_inferencedata=True or return_inferencedata=False to be safe and silence this warning.\n",
      "  return wrapped_(*args_, **kwargs_)\n",
      "Multiprocess sampling (4 chains in 4 jobs)\n",
      "CompoundStep\n",
      ">Metropolis: [sigma]\n",
      ">Metropolis: [β_distance]\n",
      ">Metropolis: [β_down]\n",
      ">Metropolis: [β_pass]\n",
      ">Metropolis: [β0]\n"
     ]
    },
    {
     "data": {
      "text/html": [
       "\n",
       "<style>\n",
       "    /* Turns off some styling */\n",
       "    progress {\n",
       "        /* gets rid of default border in Firefox and Opera. */\n",
       "        border: none;\n",
       "        /* Needs to be in here for Safari polyfill so background images work as expected. */\n",
       "        background-size: auto;\n",
       "    }\n",
       "    .progress-bar-interrupted, .progress-bar-interrupted::-webkit-progress-bar {\n",
       "        background: #F44336;\n",
       "    }\n",
       "</style>\n"
      ],
      "text/plain": [
       "<IPython.core.display.HTML object>"
      ]
     },
     "metadata": {},
     "output_type": "display_data"
    },
    {
     "data": {
      "text/html": [
       "\n",
       "    <div>\n",
       "      <progress value='44000' class='' max='44000' style='width:300px; height:20px; vertical-align: middle;'></progress>\n",
       "      100.00% [44000/44000 00:11<00:00 Sampling 4 chains, 0 divergences]\n",
       "    </div>\n",
       "    "
      ],
      "text/plain": [
       "<IPython.core.display.HTML object>"
      ]
     },
     "metadata": {},
     "output_type": "display_data"
    },
    {
     "name": "stderr",
     "output_type": "stream",
     "text": [
      "Sampling 4 chains for 1_000 tune and 10_000 draw iterations (4_000 + 40_000 draws total) took 11 seconds.\n",
      "The number of effective samples is smaller than 10% for some parameters.\n"
     ]
    }
   ],
   "source": [
    "with binomial_regression_model:\n",
    "    #fit the data \n",
    "    start=pm.find_MAP()\n",
    "    step=pm.Metropolis()\n",
    "    \n",
    "    #samples from posterior distribution \n",
    "    trace=pm.sample(10000, step=step, start=start)\n",
    "    burned_trace=trace[4000:]"
   ]
  },
  {
   "cell_type": "code",
   "execution_count": 122,
   "id": "35c91998",
   "metadata": {},
   "outputs": [
    {
     "name": "stderr",
     "output_type": "stream",
     "text": [
      "Got error No model on context stack. trying to find log_likelihood in translation.\n",
      "/home/dusty/anaconda3/lib/python3.8/site-packages/arviz/data/io_pymc3_3x.py:98: FutureWarning: Using `from_pymc3` without the model will be deprecated in a future release. Not using the model will return less accurate and less useful results. Make sure you use the model argument or call from_pymc3 within a model context.\n",
      "  warnings.warn(\n",
      "Got error No model on context stack. trying to find log_likelihood in translation.\n"
     ]
    }
   ],
   "source": [
    "import arviz as az\n",
    "\n",
    "az.plot_trace(burned_trace, var_names=[\"β0\",\"β_pass\", \"β_down\", \"β_distance\"], backend='bokeh');"
   ]
  },
  {
   "cell_type": "code",
   "execution_count": 10,
   "id": "48549746",
   "metadata": {
    "collapsed": true
   },
   "outputs": [
    {
     "name": "stdout",
     "output_type": "stream",
     "text": [
      "Collecting graphviz\n",
      "  Downloading graphviz-0.20-py3-none-any.whl (46 kB)\n",
      "\u001b[K     |████████████████████████████████| 46 kB 683 kB/s eta 0:00:011\n",
      "\u001b[?25hRequirement already satisfied: cachetools in /home/dusty/anaconda3/lib/python3.8/site-packages (5.0.0)\n",
      "Installing collected packages: graphviz\n",
      "Successfully installed graphviz-0.20\n"
     ]
    }
   ],
   "source": [
    "! pip install graphviz cachetools"
   ]
  },
  {
   "cell_type": "code",
   "execution_count": 40,
   "id": "ff061b09",
   "metadata": {
    "collapsed": true
   },
   "outputs": [
    {
     "name": "stdout",
     "output_type": "stream",
     "text": [
      "digraph {\n",
      "\tsubgraph \"cluster33,900\" {\n",
      "\t\ty [label=\"y\n",
      "~\n",
      "Binomial\" style=filled]\n",
      "\t\tp [label=\"p\n",
      "~\n",
      "Deterministic\" shape=box]\n",
      "\t\tdistance [label=\"distance\n",
      "~\n",
      "Data\" shape=box style=\"rounded, filled\"]\n",
      "\t\tdown [label=\"down\n",
      "~\n",
      "Data\" shape=box style=\"rounded, filled\"]\n",
      "\t\tpasses [label=\"passes\n",
      "~\n",
      "Data\" shape=box style=\"rounded, filled\"]\n",
      "\t\tlabel=\"33,900\" labeljust=r labelloc=b style=rounded\n",
      "\t}\n",
      "\t\"β_pass\" [label=\"β_pass\n",
      "~\n",
      "Normal\"]\n",
      "\t\"β0\" [label=\"β0\n",
      "~\n",
      "Normal\"]\n",
      "\t\"β_down\" [label=\"β_down\n",
      "~\n",
      "Normal\"]\n",
      "\t\"β_distance\" [label=\"β_distance\n",
      "~\n",
      "Normal\"]\n",
      "\t\"β0\" -> p\n",
      "\tdistance -> p\n",
      "\t\"β_down\" -> p\n",
      "\tdown -> p\n",
      "\tpasses -> p\n",
      "\t\"β_distance\" -> p\n",
      "\t\"β_pass\" -> p\n",
      "\tp -> y\n",
      "}\n",
      "\n"
     ]
    }
   ],
   "source": [
    "fig = pm.model_to_graphviz(binomial_regression_model)\n",
    "\n",
    "print(fig.source)"
   ]
  },
  {
   "cell_type": "code",
   "execution_count": 8,
   "id": "4728f960",
   "metadata": {},
   "outputs": [
    {
     "data": {
      "text/plain": [
       "['β0', 'β_pass', 'β_down', 'β_distance', 'p']"
      ]
     },
     "execution_count": 8,
     "metadata": {},
     "output_type": "execute_result"
    }
   ],
   "source": [
    "burned_trace.varnames"
   ]
  },
  {
   "cell_type": "code",
   "execution_count": 123,
   "id": "ff2957cc",
   "metadata": {},
   "outputs": [],
   "source": [
    "def linear(x_pass, x_down, x_distance, b_pass, b_down, b_distance, b0):\n",
    "    x = np.array([[1, x_pass, x_down, x_distance]])\n",
    "    betas = np.array([b0, b_pass, b_down, b_distance]).squeeze()\n",
    "    return np.dot(x, betas)\n",
    "\n",
    "b0 = burned_trace[\"β0\"][:, None]  # best to make them 1d\n",
    "b_pass = burned_trace[\"β_pass\"][:, None]\n",
    "b_down = burned_trace[\"β_down\"][:, None]\n",
    "b_distance = burned_trace[\"β_distance\"][:, None]"
   ]
  },
  {
   "cell_type": "code",
   "execution_count": 124,
   "id": "7668005b",
   "metadata": {},
   "outputs": [],
   "source": [
    "import seaborn as sns\n",
    "\n",
    "distance = 10"
   ]
  },
  {
   "cell_type": "code",
   "execution_count": 125,
   "id": "990561db",
   "metadata": {},
   "outputs": [
    {
     "data": {
      "text/plain": [
       "(3.0, 8.0)"
      ]
     },
     "execution_count": 125,
     "metadata": {},
     "output_type": "execute_result"
    },
    {
     "data": {
      "image/png": "[encoded data removed]",
      "text/plain": [
       "<Figure size 900x180 with 1 Axes>"
      ]
     },
     "metadata": {
      "needs_background": "light"
     },
     "output_type": "display_data"
    }
   ],
   "source": [
    "prob_pass = linear(1, 1, distance, b_pass, b_down, b_distance, b0)\n",
    "prob_pass = pd.DataFrame(prob_pass.T, columns =['yards'])\n",
    "prob_pass['pass'] = 1\n",
    "\n",
    "prob_run = linear(0, 1, distance, b_pass, b_down, b_distance, b0)\n",
    "prob_run = pd.DataFrame(prob_run.T, columns =['yards'])\n",
    "prob_run['pass'] = 0\n",
    "\n",
    "prob = pd.concat([prob_pass, prob_run], axis=0).reset_index(drop=True)\n",
    "\n",
    "plt = sns.histplot(data=prob, x=\"yards\", hue=\"pass\", kde=True, bins=50)\n",
    "plt.set_xlim(3,8)"
   ]
  },
  {
   "cell_type": "code",
   "execution_count": 126,
   "id": "0cb63358",
   "metadata": {},
   "outputs": [
    {
     "data": {
      "text/plain": [
       "(3.0, 8.0)"
      ]
     },
     "execution_count": 126,
     "metadata": {},
     "output_type": "execute_result"
    },
    {
     "data": {
      "image/png": "[encoded data removed]",
      "text/plain": [
       "<Figure size 900x180 with 1 Axes>"
      ]
     },
     "metadata": {
      "needs_background": "light"
     },
     "output_type": "display_data"
    }
   ],
   "source": [
    "prob_pass = linear(1, 2, distance, b_pass, b_down, b_distance, b0)\n",
    "prob_pass = pd.DataFrame(prob_pass.T, columns =['yards'])\n",
    "prob_pass['pass'] = 1\n",
    "\n",
    "prob_run = linear(0, 2, distance, b_pass, b_down, b_distance, b0)\n",
    "prob_run = pd.DataFrame(prob_run.T, columns =['yards'])\n",
    "prob_run['pass'] = 0\n",
    "\n",
    "prob = pd.concat([prob_pass, prob_run], axis=0).reset_index(drop=True)\n",
    "\n",
    "plt = sns.histplot(data=prob, x=\"yards\", hue=\"pass\", kde=True, bins=50)\n",
    "plt.set_xlim(3,8)"
   ]
  },
  {
   "cell_type": "code",
   "execution_count": 127,
   "id": "08455406",
   "metadata": {},
   "outputs": [
    {
     "data": {
      "text/plain": [
       "(3.0, 8.0)"
      ]
     },
     "execution_count": 127,
     "metadata": {},
     "output_type": "execute_result"
    },
    {
     "data": {
      "image/png": "[encoded data removed]",
      "text/plain": [
       "<Figure size 900x180 with 1 Axes>"
      ]
     },
     "metadata": {
      "needs_background": "light"
     },
     "output_type": "display_data"
    }
   ],
   "source": [
    "prob_pass = linear(1, 3, distance, b_pass, b_down, b_distance, b0)\n",
    "prob_pass = pd.DataFrame(prob_pass.T, columns =['yards'])\n",
    "prob_pass['pass'] = 1\n",
    "\n",
    "prob_run = linear(0, 3, distance, b_pass, b_down, b_distance, b0)\n",
    "prob_run = pd.DataFrame(prob_run.T, columns =['yards'])\n",
    "prob_run['pass'] = 0\n",
    "\n",
    "prob = pd.concat([prob_pass, prob_run], axis=0).reset_index(drop=True)\n",
    "\n",
    "plt = sns.histplot(data=prob, x=\"yards\", hue=\"pass\", kde=True, bins=50)\n",
    "plt.set_xlim(3,8)"
   ]
  },
  {
   "cell_type": "code",
   "execution_count": 128,
   "id": "b3a3c6ab",
   "metadata": {},
   "outputs": [
    {
     "data": {
      "text/plain": [
       "(3.0, 8.0)"
      ]
     },
     "execution_count": 128,
     "metadata": {},
     "output_type": "execute_result"
    },
    {
     "data": {
      "image/png": "[encoded data removed]",
      "text/plain": [
       "<Figure size 900x180 with 1 Axes>"
      ]
     },
     "metadata": {
      "needs_background": "light"
     },
     "output_type": "display_data"
    }
   ],
   "source": [
    "prob_pass = linear(1, 4, distance, b_pass, b_down, b_distance, b0)\n",
    "prob_pass = pd.DataFrame(prob_pass.T, columns =['yards'])\n",
    "prob_pass['pass'] = 1\n",
    "\n",
    "prob_run = linear(0, 4, distance, b_pass, b_down, b_distance, b0)\n",
    "prob_run = pd.DataFrame(prob_run.T, columns =['yards'])\n",
    "prob_run['pass'] = 0\n",
    "\n",
    "prob = pd.concat([prob_pass, prob_run], axis=0).reset_index(drop=True)\n",
    "\n",
    "plt = sns.histplot(data=prob, x=\"yards\", hue=\"pass\", kde=True, bins=50)\n",
    "plt.set_xlim(3,8)"
   ]
  },
  {
   "cell_type": "code",
   "execution_count": null,
   "id": "10e28bcf",
   "metadata": {},
   "outputs": [],
   "source": []
  }
 ],
 "metadata": {
  "kernelspec": {
   "display_name": "Python 3 (ipykernel)",
   "language": "python",
   "name": "python3"
  },
  "language_info": {
   "codemirror_mode": {
    "name": "ipython",
    "version": 3
   },
   "file_extension": ".py",
   "mimetype": "text/x-python",
   "name": "python",
   "nbconvert_exporter": "python",
   "pygments_lexer": "ipython3",
   "version": "3.8.12"
  }
 },
 "nbformat": 4,
 "nbformat_minor": 5
}
